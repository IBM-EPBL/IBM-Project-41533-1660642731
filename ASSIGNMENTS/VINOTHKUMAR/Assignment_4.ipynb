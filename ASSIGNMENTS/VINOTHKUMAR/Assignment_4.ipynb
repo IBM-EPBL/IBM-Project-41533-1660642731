{
  "cells": [
    {
      "cell_type": "markdown",
      "id": "10c1d708",
      "metadata": {
        "id": "10c1d708"
      },
      "source": [
        "# Clustering and Classification \n",
        "\n",
        "### S.vinothkumar - 912019104035"
      ]
    },
    {
      "cell_type": "markdown",
      "id": "3433dc73",
      "metadata": {
        "id": "3433dc73"
      },
      "source": [
        "## Importing the necessary libraries"
      ]
    },
    {
      "cell_type": "code",
      "execution_count": null,
      "id": "fabd7a1b",
      "metadata": {
        "id": "fabd7a1b"
      },
      "outputs": [],
      "source": [
        "import numpy as np\n",
        "import pandas as pd\n",
        "import matplotlib.pyplot as plt\n",
        "import seaborn as sns\n",
        "\n",
        "import warnings\n",
        "warnings.filterwarnings(\"ignore\")"
      ]
    },
    {
      "cell_type": "markdown",
      "id": "2f66b2f4",
      "metadata": {
        "id": "2f66b2f4"
      },
      "source": [
        "## Downloading and Loading the Dataset"
      ]
    },
    {
      "cell_type": "code",
      "execution_count": null,
      "id": "328063da",
      "metadata": {
        "id": "328063da",
        "outputId": "c7cb09b3-6e44-4b40-aebe-ec864380ebe6"
      },
      "outputs": [
        {
          "data": {
            "text/html": [
              "<div>\n",
              "<style scoped>\n",
              "    .dataframe tbody tr th:only-of-type {\n",
              "        vertical-align: middle;\n",
              "    }\n",
              "\n",
              "    .dataframe tbody tr th {\n",
              "        vertical-align: top;\n",
              "    }\n",
              "\n",
              "    .dataframe thead th {\n",
              "        text-align: right;\n",
              "    }\n",
              "</style>\n",
              "<table border=\"1\" class=\"dataframe\">\n",
              "  <thead>\n",
              "    <tr style=\"text-align: right;\">\n",
              "      <th></th>\n",
              "      <th>CustomerID</th>\n",
              "      <th>Genre</th>\n",
              "      <th>Age</th>\n",
              "      <th>Annual Income (k$)</th>\n",
              "      <th>Spending Score (1-100)</th>\n",
              "    </tr>\n",
              "  </thead>\n",
              "  <tbody>\n",
              "    <tr>\n",
              "      <th>0</th>\n",
              "      <td>1</td>\n",
              "      <td>Male</td>\n",
              "      <td>19</td>\n",
              "      <td>15</td>\n",
              "      <td>39</td>\n",
              "    </tr>\n",
              "    <tr>\n",
              "      <th>1</th>\n",
              "      <td>2</td>\n",
              "      <td>Male</td>\n",
              "      <td>21</td>\n",
              "      <td>15</td>\n",
              "      <td>81</td>\n",
              "    </tr>\n",
              "    <tr>\n",
              "      <th>2</th>\n",
              "      <td>3</td>\n",
              "      <td>Female</td>\n",
              "      <td>20</td>\n",
              "      <td>16</td>\n",
              "      <td>6</td>\n",
              "    </tr>\n",
              "    <tr>\n",
              "      <th>3</th>\n",
              "      <td>4</td>\n",
              "      <td>Female</td>\n",
              "      <td>23</td>\n",
              "      <td>16</td>\n",
              "      <td>77</td>\n",
              "    </tr>\n",
              "    <tr>\n",
              "      <th>4</th>\n",
              "      <td>5</td>\n",
              "      <td>Female</td>\n",
              "      <td>31</td>\n",
              "      <td>17</td>\n",
              "      <td>40</td>\n",
              "    </tr>\n",
              "  </tbody>\n",
              "</table>\n",
              "</div>"
            ],
            "text/plain": [
              "   CustomerID   Genre  Age  Annual Income (k$)  Spending Score (1-100)\n",
              "0           1    Male   19                  15                      39\n",
              "1           2    Male   21                  15                      81\n",
              "2           3  Female   20                  16                       6\n",
              "3           4  Female   23                  16                      77\n",
              "4           5  Female   31                  17                      40"
            ]
          },
          "execution_count": 2,
          "metadata": {},
          "output_type": "execute_result"
        }
      ],
      "source": [
        "data = pd.read_csv('Data/Mall_Customers.csv')\n",
        "data.head()"
      ]
    },
    {
      "cell_type": "markdown",
      "id": "7192dd21",
      "metadata": {
        "id": "7192dd21"
      },
      "source": [
        "## Performing Visualizations"
      ]
    },
    {
      "cell_type": "markdown",
      "id": "388a1402",
      "metadata": {
        "id": "388a1402"
      },
      "source": [
        "### Univariate Analysis"
      ]
    },
    {
      "cell_type": "markdown",
      "id": "7b90602a",
      "metadata": {
        "id": "7b90602a"
      },
      "source": [
        "### Histplot"
      ]
    },
    {
      "cell_type": "code",
      "execution_count": null,
      "id": "af4fcf3d",
      "metadata": {
        "id": "af4fcf3d",
        "outputId": "5feac4c7-a408-489b-eff2-1c4c80206abd"
      },
      "outputs": [
        {
          "data": {
            "text/plain": [
              "<AxesSubplot:xlabel='Annual Income (k$)', ylabel='Count'>"
            ]
          },
          "execution_count": 11,
          "metadata": {},
          "output_type": "execute_result"
        },
        {
          "data": {
            "image/png": "[encoded data removed]",
            "text/plain": [
              "<Figure size 432x288 with 1 Axes>"
            ]
          },
          "metadata": {
            "needs_background": "light"
          },
          "output_type": "display_data"
        }
      ],
      "source": [
        "sns.histplot(data['Annual Income (k$)'], color=\"green\")"
      ]
    },
    {
      "cell_type": "markdown",
      "id": "936981b3",
      "metadata": {
        "id": "936981b3"
      },
      "source": [
        "### Box Plot"
      ]
    },
    {
      "cell_type": "code",
      "execution_count": null,
      "id": "d3467298",
      "metadata": {
        "id": "d3467298",
        "outputId": "bc552682-31e6-4be5-fb80-2a621aa69e2d"
      },
      "outputs": [
        {
          "data": {
            "text/plain": [
              "<AxesSubplot:xlabel='Annual Income (k$)'>"
            ]
          },
          "execution_count": 12,
          "metadata": {},
          "output_type": "execute_result"
        },
        {
          "data": {
            "image/png": "[encoded data removed]",
            "text/plain": [
              "<Figure size 432x288 with 1 Axes>"
            ]
          },
          "metadata": {
            "needs_background": "light"
          },
          "output_type": "display_data"
        }
      ],
      "source": [
        "sns.boxplot(data['Annual Income (k$)'], color=\"orange\")"
      ]
    },
    {
      "cell_type": "markdown",
      "id": "25857d1a",
      "metadata": {
        "id": "25857d1a"
      },
      "source": [
        "### Dist Plot"
      ]
    },
    {
      "cell_type": "code",
      "execution_count": null,
      "id": "5f1199d3",
      "metadata": {
        "id": "5f1199d3",
        "outputId": "c55570b8-d689-4bc7-e36e-dc042d70851e"
      },
      "outputs": [
        {
          "data": {
            "text/plain": [
              "<AxesSubplot:xlabel='Annual Income (k$)', ylabel='Density'>"
            ]
          },
          "execution_count": 10,
          "metadata": {},
          "output_type": "execute_result"
        },
        {
          "data": {
            "image/png": "[encoded data removed]",
            "text/plain": [
              "<Figure size 432x288 with 1 Axes>"
            ]
          },
          "metadata": {
            "needs_background": "light"
          },
          "output_type": "display_data"
        }
      ],
      "source": [
        "sns.distplot(data['Annual Income (k$)'], color=\"red\")"
      ]
    },
    {
      "cell_type": "markdown",
      "id": "ac497573",
      "metadata": {
        "id": "ac497573"
      },
      "source": [
        "### Bi-variate Analysis"
      ]
    },
    {
      "cell_type": "markdown",
      "id": "816150b9",
      "metadata": {
        "id": "816150b9"
      },
      "source": [
        "### Barplot"
      ]
    },
    {
      "cell_type": "code",
      "execution_count": null,
      "id": "a2fc5ffa",
      "metadata": {
        "id": "a2fc5ffa",
        "outputId": "73a5b7f1-a13b-445b-9ccb-446c7208aad0"
      },
      "outputs": [
        {
          "data": {
            "text/plain": [
              "<AxesSubplot:xlabel='Age', ylabel='Annual Income (k$)'>"
            ]
          },
          "execution_count": 13,
          "metadata": {},
          "output_type": "execute_result"
        },
        {
          "data": {
            "image/png": "[encoded data removed]",
            "text/plain": [
              "<Figure size 1152x432 with 1 Axes>"
            ]
          },
          "metadata": {
            "needs_background": "light"
          },
          "output_type": "display_data"
        }
      ],
      "source": [
        "plt.figure(figsize=(16,6))\n",
        "sns.barplot(data['Age'],data['Annual Income (k$)'])"
      ]
    },
    {
      "cell_type": "markdown",
      "id": "00d92f3c",
      "metadata": {
        "id": "00d92f3c"
      },
      "source": [
        "### Lineplot"
      ]
    },
    {
      "cell_type": "code",
      "execution_count": null,
      "id": "20d49aae",
      "metadata": {
        "id": "20d49aae",
        "outputId": "b0e82d6c-1431-4163-95b7-1991354bc123"
      },
      "outputs": [
        {
          "data": {
            "text/plain": [
              "<AxesSubplot:xlabel='Annual Income (k$)', ylabel='Spending Score (1-100)'>"
            ]
          },
          "execution_count": 15,
          "metadata": {},
          "output_type": "execute_result"
        },
        {
          "data": {
            "image/png": "[encoded data removed]",
            "text/plain": [
              "<Figure size 432x288 with 1 Axes>"
            ]
          },
          "metadata": {
            "needs_background": "light"
          },
          "output_type": "display_data"
        }
      ],
      "source": [
        "sns.lineplot(data['Annual Income (k$)'], data['Spending Score (1-100)'], color=\"blue\")"
      ]
    },
    {
      "cell_type": "markdown",
      "id": "97dffc22",
      "metadata": {
        "id": "97dffc22"
      },
      "source": [
        "### Scatter plot (Age vs Spending Score)"
      ]
    },
    {
      "cell_type": "code",
      "execution_count": null,
      "id": "29207d83",
      "metadata": {
        "id": "29207d83",
        "outputId": "3e25efe3-3412-4611-ac1b-6be7ae6ffb7c"
      },
      "outputs": [
        {
          "data": {
            "text/plain": [
              "<AxesSubplot:xlabel='Spending Score (1-100)', ylabel='Age'>"
            ]
          },
          "execution_count": 16,
          "metadata": {},
          "output_type": "execute_result"
        },
        {
          "data": {
            "image/png": "[encoded data removed]",
            "text/plain": [
              "<Figure size 432x288 with 1 Axes>"
            ]
          },
          "metadata": {
            "needs_background": "light"
          },
          "output_type": "display_data"
        }
      ],
      "source": [
        "sns.scatterplot(data['Spending Score (1-100)'], data['Age'], hue = data['Genre'])"
      ]
    },
    {
      "cell_type": "markdown",
      "id": "6de879d3",
      "metadata": {
        "id": "6de879d3"
      },
      "source": [
        "### Gender vs Age Distribution"
      ]
    },
    {
      "cell_type": "code",
      "execution_count": null,
      "id": "8c362b75",
      "metadata": {
        "id": "8c362b75",
        "outputId": "eea316e0-4cda-4c04-86c4-76c51cbb738e"
      },
      "outputs": [
        {
          "data": {
            "image/png": "[encoded data removed]",
            "text/plain": [
              "<Figure size 720x720 with 1 Axes>"
            ]
          },
          "metadata": {
            "needs_background": "light"
          },
          "output_type": "display_data"
        }
      ],
      "source": [
        "temp = pd.concat([data['Age'], data['Genre']], axis=1)\n",
        "\n",
        "f, ax = plt.subplots(figsize=(10,10))\n",
        "fig = sns.boxenplot(x='Genre', y=\"Age\", data=data)\n",
        "fig.axis(ymin=0, ymax=100);\n",
        "\n",
        "#Genre -> Gender (Dataset in Kaggle had a typo)"
      ]
    },
    {
      "cell_type": "markdown",
      "id": "58de3113",
      "metadata": {
        "id": "58de3113"
      },
      "source": [
        "### Annual Income vs Gender Countplot"
      ]
    },
    {
      "cell_type": "code",
      "execution_count": null,
      "id": "89dcba6c",
      "metadata": {
        "id": "89dcba6c",
        "outputId": "1a29353d-5999-443a-d322-4ad06372a01a"
      },
      "outputs": [
        {
          "data": {
            "text/plain": [
              "<AxesSubplot:xlabel='Genre', ylabel='Annual Income (k$)'>"
            ]
          },
          "execution_count": 18,
          "metadata": {},
          "output_type": "execute_result"
        },
        {
          "data": {
            "image/png": "[encoded data removed]",
            "text/plain": [
              "<Figure size 432x288 with 1 Axes>"
            ]
          },
          "metadata": {
            "needs_background": "light"
          },
          "output_type": "display_data"
        }
      ],
      "source": [
        "sns.boxplot(x=data['Genre'],y=data['Annual Income (k$)'])"
      ]
    },
    {
      "cell_type": "markdown",
      "id": "34624d81",
      "metadata": {
        "id": "34624d81"
      },
      "source": [
        "### Multi-variate Analysis"
      ]
    },
    {
      "cell_type": "code",
      "execution_count": null,
      "id": "c59e9b2d",
      "metadata": {
        "id": "c59e9b2d",
        "outputId": "cdb45f24-a91c-4f7b-9387-a1b505ea0bff"
      },
      "outputs": [
        {
          "data": {
            "text/plain": [
              "<seaborn.axisgrid.PairGrid at 0x18f5b8e2af0>"
            ]
          },
          "execution_count": 22,
          "metadata": {},
          "output_type": "execute_result"
        },
        {
          "data": {
            "image/png": "[encoded data removed]",
            "text/plain": [
              "<Figure size 540x540 with 12 Axes>"
            ]
          },
          "metadata": {
            "needs_background": "light"
          },
          "output_type": "display_data"
        }
      ],
      "source": [
        "sns.pairplot(data=data[[\"Age\", \"Genre\",\"Spending Score (1-100)\",\"Annual Income (k$)\"]])"
      ]
    },
    {
      "cell_type": "markdown",
      "id": "8df69b68",
      "metadata": {
        "id": "8df69b68"
      },
      "source": [
        "### Correlation between the different attributes"
      ]
    },
    {
      "cell_type": "code",
      "execution_count": null,
      "id": "f8bbb437",
      "metadata": {
        "id": "f8bbb437",
        "outputId": "7f0cd560-a68c-4334-a9f8-1205b7e51784"
      },
      "outputs": [
        {
          "data": {
            "text/plain": [
              "<AxesSubplot:>"
            ]
          },
          "execution_count": 23,
          "metadata": {},
          "output_type": "execute_result"
        },
        {
          "data": {
            "image/png": "[encoded data removed]",
            "text/plain": [
              "<Figure size 432x288 with 2 Axes>"
            ]
          },
          "metadata": {
            "needs_background": "light"
          },
          "output_type": "display_data"
        }
      ],
      "source": [
        "sns.heatmap(data.corr(),annot=True)"
      ]
    },
    {
      "cell_type": "markdown",
      "id": "a481a5ad",
      "metadata": {
        "id": "a481a5ad"
      },
      "source": [
        "## Performing Descriptive Stats on the Dataset"
      ]
    },
    {
      "cell_type": "code",
      "execution_count": null,
      "id": "769cfc68",
      "metadata": {
        "id": "769cfc68",
        "outputId": "0958b342-294b-446e-e22b-d4d3fe334bd5"
      },
      "outputs": [
        {
          "data": {
            "text/html": [
              "<div>\n",
              "<style scoped>\n",
              "    .dataframe tbody tr th:only-of-type {\n",
              "        vertical-align: middle;\n",
              "    }\n",
              "\n",
              "    .dataframe tbody tr th {\n",
              "        vertical-align: top;\n",
              "    }\n",
              "\n",
              "    .dataframe thead th {\n",
              "        text-align: right;\n",
              "    }\n",
              "</style>\n",
              "<table border=\"1\" class=\"dataframe\">\n",
              "  <thead>\n",
              "    <tr style=\"text-align: right;\">\n",
              "      <th></th>\n",
              "      <th>CustomerID</th>\n",
              "      <th>Age</th>\n",
              "      <th>Annual Income (k$)</th>\n",
              "      <th>Spending Score (1-100)</th>\n",
              "    </tr>\n",
              "  </thead>\n",
              "  <tbody>\n",
              "    <tr>\n",
              "      <th>count</th>\n",
              "      <td>200.000000</td>\n",
              "      <td>200.000000</td>\n",
              "      <td>200.000000</td>\n",
              "      <td>200.000000</td>\n",
              "    </tr>\n",
              "    <tr>\n",
              "      <th>mean</th>\n",
              "      <td>100.500000</td>\n",
              "      <td>38.850000</td>\n",
              "      <td>60.560000</td>\n",
              "      <td>50.200000</td>\n",
              "    </tr>\n",
              "    <tr>\n",
              "      <th>std</th>\n",
              "      <td>57.879185</td>\n",
              "      <td>13.969007</td>\n",
              "      <td>26.264721</td>\n",
              "      <td>25.823522</td>\n",
              "    </tr>\n",
              "    <tr>\n",
              "      <th>min</th>\n",
              "      <td>1.000000</td>\n",
              "      <td>18.000000</td>\n",
              "      <td>15.000000</td>\n",
              "      <td>1.000000</td>\n",
              "    </tr>\n",
              "    <tr>\n",
              "      <th>25%</th>\n",
              "      <td>50.750000</td>\n",
              "      <td>28.750000</td>\n",
              "      <td>41.500000</td>\n",
              "      <td>34.750000</td>\n",
              "    </tr>\n",
              "    <tr>\n",
              "      <th>50%</th>\n",
              "      <td>100.500000</td>\n",
              "      <td>36.000000</td>\n",
              "      <td>61.500000</td>\n",
              "      <td>50.000000</td>\n",
              "    </tr>\n",
              "    <tr>\n",
              "      <th>75%</th>\n",
              "      <td>150.250000</td>\n",
              "      <td>49.000000</td>\n",
              "      <td>78.000000</td>\n",
              "      <td>73.000000</td>\n",
              "    </tr>\n",
              "    <tr>\n",
              "      <th>max</th>\n",
              "      <td>200.000000</td>\n",
              "      <td>70.000000</td>\n",
              "      <td>137.000000</td>\n",
              "      <td>99.000000</td>\n",
              "    </tr>\n",
              "  </tbody>\n",
              "</table>\n",
              "</div>"
            ],
            "text/plain": [
              "       CustomerID         Age  Annual Income (k$)  Spending Score (1-100)\n",
              "count  200.000000  200.000000          200.000000              200.000000\n",
              "mean   100.500000   38.850000           60.560000               50.200000\n",
              "std     57.879185   13.969007           26.264721               25.823522\n",
              "min      1.000000   18.000000           15.000000                1.000000\n",
              "25%     50.750000   28.750000           41.500000               34.750000\n",
              "50%    100.500000   36.000000           61.500000               50.000000\n",
              "75%    150.250000   49.000000           78.000000               73.000000\n",
              "max    200.000000   70.000000          137.000000               99.000000"
            ]
          },
          "execution_count": 24,
          "metadata": {},
          "output_type": "execute_result"
        }
      ],
      "source": [
        "data.describe()"
      ]
    },
    {
      "cell_type": "code",
      "execution_count": null,
      "id": "2190231a",
      "metadata": {
        "id": "2190231a",
        "outputId": "318169eb-a318-42d2-9f9b-bd582d19d036"
      },
      "outputs": [
        {
          "data": {
            "text/plain": [
              "<bound method DataFrame.info of      CustomerID   Genre  Age  Annual Income (k$)  Spending Score (1-100)\n",
              "0             1    Male   19                  15                      39\n",
              "1             2    Male   21                  15                      81\n",
              "2             3  Female   20                  16                       6\n",
              "3             4  Female   23                  16                      77\n",
              "4             5  Female   31                  17                      40\n",
              "..          ...     ...  ...                 ...                     ...\n",
              "195         196  Female   35                 120                      79\n",
              "196         197  Female   45                 126                      28\n",
              "197         198    Male   32                 126                      74\n",
              "198         199    Male   32                 137                      18\n",
              "199         200    Male   30                 137                      83\n",
              "\n",
              "[200 rows x 5 columns]>"
            ]
          },
          "execution_count": 25,
          "metadata": {},
          "output_type": "execute_result"
        }
      ],
      "source": [
        "data.info"
      ]
    },
    {
      "cell_type": "code",
      "execution_count": null,
      "id": "3f17299d",
      "metadata": {
        "id": "3f17299d",
        "outputId": "3ad787cd-882f-439e-8f3d-09fa1f2fae6c"
      },
      "outputs": [
        {
          "data": {
            "text/plain": [
              "(200, 5)"
            ]
          },
          "execution_count": 26,
          "metadata": {},
          "output_type": "execute_result"
        }
      ],
      "source": [
        "data.shape"
      ]
    },
    {
      "cell_type": "markdown",
      "id": "bbe31e1f",
      "metadata": {
        "id": "bbe31e1f"
      },
      "source": [
        "## Checking for null values"
      ]
    },
    {
      "cell_type": "code",
      "execution_count": null,
      "id": "9291057e",
      "metadata": {
        "id": "9291057e",
        "outputId": "e105a4ab-ffb5-4b3b-823e-8b35b1932507"
      },
      "outputs": [
        {
          "data": {
            "text/plain": [
              "CustomerID                False\n",
              "Genre                     False\n",
              "Age                       False\n",
              "Annual Income (k$)        False\n",
              "Spending Score (1-100)    False\n",
              "dtype: bool"
            ]
          },
          "execution_count": 27,
          "metadata": {},
          "output_type": "execute_result"
        }
      ],
      "source": [
        "data.isnull().any() #Inference: The dataset has no null values"
      ]
    },
    {
      "cell_type": "code",
      "execution_count": null,
      "id": "2acb497a",
      "metadata": {
        "id": "2acb497a",
        "outputId": "b92ee040-a728-4650-c36c-d45da07af281"
      },
      "outputs": [
        {
          "data": {
            "text/html": [
              "<div>\n",
              "<style scoped>\n",
              "    .dataframe tbody tr th:only-of-type {\n",
              "        vertical-align: middle;\n",
              "    }\n",
              "\n",
              "    .dataframe tbody tr th {\n",
              "        vertical-align: top;\n",
              "    }\n",
              "\n",
              "    .dataframe thead th {\n",
              "        text-align: right;\n",
              "    }\n",
              "</style>\n",
              "<table border=\"1\" class=\"dataframe\">\n",
              "  <thead>\n",
              "    <tr style=\"text-align: right;\">\n",
              "      <th></th>\n",
              "      <th>Genre</th>\n",
              "      <th>Age</th>\n",
              "      <th>Annual Income (k$)</th>\n",
              "      <th>Spending Score (1-100)</th>\n",
              "    </tr>\n",
              "  </thead>\n",
              "  <tbody>\n",
              "    <tr>\n",
              "      <th>0</th>\n",
              "      <td>Male</td>\n",
              "      <td>19</td>\n",
              "      <td>15</td>\n",
              "      <td>39</td>\n",
              "    </tr>\n",
              "    <tr>\n",
              "      <th>1</th>\n",
              "      <td>Male</td>\n",
              "      <td>21</td>\n",
              "      <td>15</td>\n",
              "      <td>81</td>\n",
              "    </tr>\n",
              "    <tr>\n",
              "      <th>2</th>\n",
              "      <td>Female</td>\n",
              "      <td>20</td>\n",
              "      <td>16</td>\n",
              "      <td>6</td>\n",
              "    </tr>\n",
              "    <tr>\n",
              "      <th>3</th>\n",
              "      <td>Female</td>\n",
              "      <td>23</td>\n",
              "      <td>16</td>\n",
              "      <td>77</td>\n",
              "    </tr>\n",
              "    <tr>\n",
              "      <th>4</th>\n",
              "      <td>Female</td>\n",
              "      <td>31</td>\n",
              "      <td>17</td>\n",
              "      <td>40</td>\n",
              "    </tr>\n",
              "  </tbody>\n",
              "</table>\n",
              "</div>"
            ],
            "text/plain": [
              "    Genre  Age  Annual Income (k$)  Spending Score (1-100)\n",
              "0    Male   19                  15                      39\n",
              "1    Male   21                  15                      81\n",
              "2  Female   20                  16                       6\n",
              "3  Female   23                  16                      77\n",
              "4  Female   31                  17                      40"
            ]
          },
          "execution_count": 28,
          "metadata": {},
          "output_type": "execute_result"
        }
      ],
      "source": [
        "data.drop('CustomerID',axis=1,inplace=True)\n",
        "data.head()"
      ]
    },
    {
      "cell_type": "markdown",
      "id": "afc954c2",
      "metadata": {
        "id": "afc954c2"
      },
      "source": [
        "## Finding the outliers and replacing them"
      ]
    },
    {
      "cell_type": "code",
      "execution_count": null,
      "id": "6be04eb0",
      "metadata": {
        "id": "6be04eb0"
      },
      "outputs": [],
      "source": [
        "for i in data:\n",
        "    if data[i].dtype=='int64':\n",
        "        q1=data[i].quantile(0.25)\n",
        "        q3=data[i].quantile(0.75)\n",
        "        iqr=q3-q1\n",
        "        upper=q3+1.5*iqr\n",
        "        lower=q1-1.5*iqr\n",
        "        data[i]=np.where(data[i] >upper, upper, data[i])\n",
        "        data[i]=np.where(data[i] <lower, lower, data[i])"
      ]
    },
    {
      "cell_type": "markdown",
      "id": "342dd89d",
      "metadata": {
        "id": "342dd89d"
      },
      "source": [
        "### After removing outliers, boxplot will be like"
      ]
    },
    {
      "cell_type": "code",
      "execution_count": null,
      "id": "7fb35131",
      "metadata": {
        "id": "7fb35131",
        "outputId": "267c51d3-5364-459d-d942-f3a0030fc6c4"
      },
      "outputs": [
        {
          "data": {
            "text/plain": [
              "{'whiskers': [<matplotlib.lines.Line2D at 0x18f5c299610>,\n",
              "  <matplotlib.lines.Line2D at 0x18f5c299970>],\n",
              " 'caps': [<matplotlib.lines.Line2D at 0x18f5c299cd0>,\n",
              "  <matplotlib.lines.Line2D at 0x18f5c2ad070>],\n",
              " 'boxes': [<matplotlib.lines.Line2D at 0x18f5c2992b0>],\n",
              " 'medians': [<matplotlib.lines.Line2D at 0x18f5c2ad3d0>],\n",
              " 'fliers': [<matplotlib.lines.Line2D at 0x18f5c2ad730>],\n",
              " 'means': []}"
            ]
          },
          "execution_count": 32,
          "metadata": {},
          "output_type": "execute_result"
        },
        {
          "data": {
            "image/png": "[encoded data removed]",
            "text/plain": [
              "<Figure size 432x288 with 1 Axes>"
            ]
          },
          "metadata": {
            "needs_background": "light"
          },
          "output_type": "display_data"
        }
      ],
      "source": [
        "plt.boxplot(data['Age'])"
      ]
    },
    {
      "cell_type": "code",
      "execution_count": null,
      "id": "ac40a80e",
      "metadata": {
        "id": "ac40a80e",
        "outputId": "8880b88b-acae-4015-bbb6-a8d6b48072f2"
      },
      "outputs": [
        {
          "data": {
            "text/plain": [
              "{'whiskers': [<matplotlib.lines.Line2D at 0x18f5d2c5b50>,\n",
              "  <matplotlib.lines.Line2D at 0x18f5d2c5eb0>],\n",
              " 'caps': [<matplotlib.lines.Line2D at 0x18f5d2d2250>,\n",
              "  <matplotlib.lines.Line2D at 0x18f5d2d25b0>],\n",
              " 'boxes': [<matplotlib.lines.Line2D at 0x18f5d2c57f0>],\n",
              " 'medians': [<matplotlib.lines.Line2D at 0x18f5d2d2910>],\n",
              " 'fliers': [<matplotlib.lines.Line2D at 0x18f5d2d2c70>],\n",
              " 'means': []}"
            ]
          },
          "execution_count": 33,
          "metadata": {},
          "output_type": "execute_result"
        },
        {
          "data": {
            "image/png": "[encoded data removed]",
            "text/plain": [
              "<Figure size 432x288 with 1 Axes>"
            ]
          },
          "metadata": {
            "needs_background": "light"
          },
          "output_type": "display_data"
        }
      ],
      "source": [
        "plt.boxplot(data['Annual Income (k$)'])"
      ]
    },
    {
      "cell_type": "code",
      "execution_count": null,
      "id": "e6b8bb48",
      "metadata": {
        "id": "e6b8bb48",
        "outputId": "e100b806-f16d-4f19-cb74-fd3899aee928"
      },
      "outputs": [
        {
          "data": {
            "text/plain": [
              "{'whiskers': [<matplotlib.lines.Line2D at 0x18f5d32c070>,\n",
              "  <matplotlib.lines.Line2D at 0x18f5d32c3d0>],\n",
              " 'caps': [<matplotlib.lines.Line2D at 0x18f5d32c730>,\n",
              "  <matplotlib.lines.Line2D at 0x18f5d32ca90>],\n",
              " 'boxes': [<matplotlib.lines.Line2D at 0x18f5d31dcd0>],\n",
              " 'medians': [<matplotlib.lines.Line2D at 0x18f5d32cdf0>],\n",
              " 'fliers': [<matplotlib.lines.Line2D at 0x18f5d33a190>],\n",
              " 'means': []}"
            ]
          },
          "execution_count": 34,
          "metadata": {},
          "output_type": "execute_result"
        },
        {
          "data": {
            "image/png": "[encoded data removed]",
            "text/plain": [
              "<Figure size 432x288 with 1 Axes>"
            ]
          },
          "metadata": {
            "needs_background": "light"
          },
          "output_type": "display_data"
        }
      ],
      "source": [
        "plt.boxplot(data['Spending Score (1-100)'])"
      ]
    },
    {
      "cell_type": "markdown",
      "id": "d291f699",
      "metadata": {
        "id": "d291f699"
      },
      "source": [
        "## Checking for categorical columns and performing encoding"
      ]
    },
    {
      "cell_type": "code",
      "execution_count": null,
      "id": "717535f0",
      "metadata": {
        "id": "717535f0"
      },
      "outputs": [],
      "source": [
        "from sklearn.preprocessing import LabelEncoder\n",
        "l_en = LabelEncoder()"
      ]
    },
    {
      "cell_type": "code",
      "execution_count": null,
      "id": "dbd3df39",
      "metadata": {
        "id": "dbd3df39",
        "outputId": "f63daf32-657e-4e9d-c10e-cd1538eff3e1"
      },
      "outputs": [
        {
          "data": {
            "text/html": [
              "<div>\n",
              "<style scoped>\n",
              "    .dataframe tbody tr th:only-of-type {\n",
              "        vertical-align: middle;\n",
              "    }\n",
              "\n",
              "    .dataframe tbody tr th {\n",
              "        vertical-align: top;\n",
              "    }\n",
              "\n",
              "    .dataframe thead th {\n",
              "        text-align: right;\n",
              "    }\n",
              "</style>\n",
              "<table border=\"1\" class=\"dataframe\">\n",
              "  <thead>\n",
              "    <tr style=\"text-align: right;\">\n",
              "      <th></th>\n",
              "      <th>Genre</th>\n",
              "      <th>Age</th>\n",
              "      <th>Annual Income (k$)</th>\n",
              "      <th>Spending Score (1-100)</th>\n",
              "    </tr>\n",
              "  </thead>\n",
              "  <tbody>\n",
              "    <tr>\n",
              "      <th>0</th>\n",
              "      <td>1</td>\n",
              "      <td>19.0</td>\n",
              "      <td>15.0</td>\n",
              "      <td>39.0</td>\n",
              "    </tr>\n",
              "    <tr>\n",
              "      <th>1</th>\n",
              "      <td>1</td>\n",
              "      <td>21.0</td>\n",
              "      <td>15.0</td>\n",
              "      <td>81.0</td>\n",
              "    </tr>\n",
              "    <tr>\n",
              "      <th>2</th>\n",
              "      <td>0</td>\n",
              "      <td>20.0</td>\n",
              "      <td>16.0</td>\n",
              "      <td>6.0</td>\n",
              "    </tr>\n",
              "    <tr>\n",
              "      <th>3</th>\n",
              "      <td>0</td>\n",
              "      <td>23.0</td>\n",
              "      <td>16.0</td>\n",
              "      <td>77.0</td>\n",
              "    </tr>\n",
              "    <tr>\n",
              "      <th>4</th>\n",
              "      <td>0</td>\n",
              "      <td>31.0</td>\n",
              "      <td>17.0</td>\n",
              "      <td>40.0</td>\n",
              "    </tr>\n",
              "  </tbody>\n",
              "</table>\n",
              "</div>"
            ],
            "text/plain": [
              "   Genre   Age  Annual Income (k$)  Spending Score (1-100)\n",
              "0      1  19.0                15.0                    39.0\n",
              "1      1  21.0                15.0                    81.0\n",
              "2      0  20.0                16.0                     6.0\n",
              "3      0  23.0                16.0                    77.0\n",
              "4      0  31.0                17.0                    40.0"
            ]
          },
          "execution_count": 36,
          "metadata": {},
          "output_type": "execute_result"
        }
      ],
      "source": [
        "data['Genre'] = l_en.fit_transform(data['Genre'])\n",
        "data.head()"
      ]
    },
    {
      "cell_type": "markdown",
      "id": "5d743623",
      "metadata": {
        "id": "5d743623"
      },
      "source": [
        "## Scaling the data"
      ]
    },
    {
      "cell_type": "code",
      "execution_count": null,
      "id": "73ac9b47",
      "metadata": {
        "id": "73ac9b47",
        "outputId": "a9ed4305-122c-424d-a9c6-373267c0dcf0"
      },
      "outputs": [
        {
          "data": {
            "text/plain": [
              "array([[1.        , 0.01923077, 0.        , 0.3877551 ],\n",
              "       [1.        , 0.05769231, 0.        , 0.81632653],\n",
              "       [0.        , 0.03846154, 0.00849257, 0.05102041],\n",
              "       [0.        , 0.09615385, 0.00849257, 0.7755102 ],\n",
              "       [0.        , 0.25      , 0.01698514, 0.39795918]])"
            ]
          },
          "execution_count": 37,
          "metadata": {},
          "output_type": "execute_result"
        }
      ],
      "source": [
        "from sklearn.preprocessing import MinMaxScaler\n",
        "scaler = MinMaxScaler()\n",
        "data_scaled = scaler.fit_transform(data)\n",
        "data_scaled[0:5]"
      ]
    },
    {
      "cell_type": "markdown",
      "id": "b67a16fe",
      "metadata": {
        "id": "b67a16fe"
      },
      "source": [
        "## Performing any of the clustering algorithms"
      ]
    },
    {
      "cell_type": "code",
      "execution_count": null,
      "id": "999e3708",
      "metadata": {
        "id": "999e3708",
        "outputId": "e298b356-7e42-40f4-b1b3-964189de6a87"
      },
      "outputs": [
        {
          "data": {
            "text/plain": [
              "array([5, 5, 2, 2, 2, 2, 3, 2, 7, 2, 7, 2, 3, 2, 1, 5, 2, 5, 7, 2, 5, 5,\n",
              "       3, 5, 3, 5, 3, 5, 3, 2, 7, 2, 7, 5, 3, 2, 3, 2, 3, 2, 3, 5, 7, 2,\n",
              "       3, 2, 3, 2, 2, 2, 3, 5, 2, 7, 3, 7, 3, 7, 2, 7, 7, 5, 3, 3, 7, 5,\n",
              "       3, 3, 5, 2, 7, 3, 3, 3, 7, 5, 3, 5, 2, 3, 7, 5, 7, 3, 2, 7, 3, 2,\n",
              "       2, 3, 3, 5, 7, 3, 2, 5, 3, 2, 7, 5, 2, 3, 7, 5, 7, 2, 3, 7, 7, 7,\n",
              "       7, 2, 3, 5, 2, 2, 3, 3, 3, 3, 5, 3, 6, 4, 2, 6, 1, 4, 7, 4, 1, 4,\n",
              "       2, 6, 1, 6, 0, 4, 1, 6, 0, 4, 2, 6, 1, 4, 1, 6, 0, 4, 1, 4, 0, 6,\n",
              "       0, 6, 1, 6, 1, 6, 3, 6, 1, 6, 1, 6, 1, 6, 0, 4, 1, 4, 1, 4, 0, 6,\n",
              "       1, 4, 1, 4, 0, 6, 1, 6, 0, 4, 0, 4, 0, 6, 0, 6, 1, 6, 0, 6, 0, 4,\n",
              "       1, 4])"
            ]
          },
          "execution_count": 38,
          "metadata": {},
          "output_type": "execute_result"
        }
      ],
      "source": [
        "from sklearn.cluster import KMeans\n",
        "km = KMeans()\n",
        "res = km.fit_predict(data_scaled)\n",
        "res"
      ]
    },
    {
      "cell_type": "code",
      "execution_count": null,
      "id": "cf128a74",
      "metadata": {
        "id": "cf128a74",
        "outputId": "34248c7d-8412-4b3a-c595-bde9a4396849"
      },
      "outputs": [
        {
          "data": {
            "text/html": [
              "<div>\n",
              "<style scoped>\n",
              "    .dataframe tbody tr th:only-of-type {\n",
              "        vertical-align: middle;\n",
              "    }\n",
              "\n",
              "    .dataframe tbody tr th {\n",
              "        vertical-align: top;\n",
              "    }\n",
              "\n",
              "    .dataframe thead th {\n",
              "        text-align: right;\n",
              "    }\n",
              "</style>\n",
              "<table border=\"1\" class=\"dataframe\">\n",
              "  <thead>\n",
              "    <tr style=\"text-align: right;\">\n",
              "      <th></th>\n",
              "      <th>Genre</th>\n",
              "      <th>Age</th>\n",
              "      <th>Annual Income (k$)</th>\n",
              "      <th>Spending Score (1-100)</th>\n",
              "    </tr>\n",
              "  </thead>\n",
              "  <tbody>\n",
              "    <tr>\n",
              "      <th>0</th>\n",
              "      <td>1.0</td>\n",
              "      <td>0.019231</td>\n",
              "      <td>0.000000</td>\n",
              "      <td>0.387755</td>\n",
              "    </tr>\n",
              "    <tr>\n",
              "      <th>1</th>\n",
              "      <td>1.0</td>\n",
              "      <td>0.057692</td>\n",
              "      <td>0.000000</td>\n",
              "      <td>0.816327</td>\n",
              "    </tr>\n",
              "    <tr>\n",
              "      <th>2</th>\n",
              "      <td>0.0</td>\n",
              "      <td>0.038462</td>\n",
              "      <td>0.008493</td>\n",
              "      <td>0.051020</td>\n",
              "    </tr>\n",
              "    <tr>\n",
              "      <th>3</th>\n",
              "      <td>0.0</td>\n",
              "      <td>0.096154</td>\n",
              "      <td>0.008493</td>\n",
              "      <td>0.775510</td>\n",
              "    </tr>\n",
              "    <tr>\n",
              "      <th>4</th>\n",
              "      <td>0.0</td>\n",
              "      <td>0.250000</td>\n",
              "      <td>0.016985</td>\n",
              "      <td>0.397959</td>\n",
              "    </tr>\n",
              "  </tbody>\n",
              "</table>\n",
              "</div>"
            ],
            "text/plain": [
              "   Genre       Age  Annual Income (k$)  Spending Score (1-100)\n",
              "0    1.0  0.019231            0.000000                0.387755\n",
              "1    1.0  0.057692            0.000000                0.816327\n",
              "2    0.0  0.038462            0.008493                0.051020\n",
              "3    0.0  0.096154            0.008493                0.775510\n",
              "4    0.0  0.250000            0.016985                0.397959"
            ]
          },
          "execution_count": 39,
          "metadata": {},
          "output_type": "execute_result"
        }
      ],
      "source": [
        "data1 = pd.DataFrame(data_scaled, columns = data.columns)\n",
        "data1.head()"
      ]
    },
    {
      "cell_type": "code",
      "execution_count": null,
      "id": "e061cdf5",
      "metadata": {
        "id": "e061cdf5",
        "outputId": "fd334d0a-1cd6-4506-cce7-343a720cf409"
      },
      "outputs": [
        {
          "data": {
            "text/html": [
              "<div>\n",
              "<style scoped>\n",
              "    .dataframe tbody tr th:only-of-type {\n",
              "        vertical-align: middle;\n",
              "    }\n",
              "\n",
              "    .dataframe tbody tr th {\n",
              "        vertical-align: top;\n",
              "    }\n",
              "\n",
              "    .dataframe thead th {\n",
              "        text-align: right;\n",
              "    }\n",
              "</style>\n",
              "<table border=\"1\" class=\"dataframe\">\n",
              "  <thead>\n",
              "    <tr style=\"text-align: right;\">\n",
              "      <th></th>\n",
              "      <th>Genre</th>\n",
              "      <th>Age</th>\n",
              "      <th>Annual Income (k$)</th>\n",
              "      <th>Spending Score (1-100)</th>\n",
              "      <th>kclus</th>\n",
              "    </tr>\n",
              "  </thead>\n",
              "  <tbody>\n",
              "    <tr>\n",
              "      <th>0</th>\n",
              "      <td>1.0</td>\n",
              "      <td>0.019231</td>\n",
              "      <td>0.000000</td>\n",
              "      <td>0.387755</td>\n",
              "      <td>5</td>\n",
              "    </tr>\n",
              "    <tr>\n",
              "      <th>1</th>\n",
              "      <td>1.0</td>\n",
              "      <td>0.057692</td>\n",
              "      <td>0.000000</td>\n",
              "      <td>0.816327</td>\n",
              "      <td>5</td>\n",
              "    </tr>\n",
              "    <tr>\n",
              "      <th>2</th>\n",
              "      <td>0.0</td>\n",
              "      <td>0.038462</td>\n",
              "      <td>0.008493</td>\n",
              "      <td>0.051020</td>\n",
              "      <td>2</td>\n",
              "    </tr>\n",
              "    <tr>\n",
              "      <th>3</th>\n",
              "      <td>0.0</td>\n",
              "      <td>0.096154</td>\n",
              "      <td>0.008493</td>\n",
              "      <td>0.775510</td>\n",
              "      <td>2</td>\n",
              "    </tr>\n",
              "    <tr>\n",
              "      <th>4</th>\n",
              "      <td>0.0</td>\n",
              "      <td>0.250000</td>\n",
              "      <td>0.016985</td>\n",
              "      <td>0.397959</td>\n",
              "      <td>2</td>\n",
              "    </tr>\n",
              "  </tbody>\n",
              "</table>\n",
              "</div>"
            ],
            "text/plain": [
              "   Genre       Age  Annual Income (k$)  Spending Score (1-100)  kclus\n",
              "0    1.0  0.019231            0.000000                0.387755      5\n",
              "1    1.0  0.057692            0.000000                0.816327      5\n",
              "2    0.0  0.038462            0.008493                0.051020      2\n",
              "3    0.0  0.096154            0.008493                0.775510      2\n",
              "4    0.0  0.250000            0.016985                0.397959      2"
            ]
          },
          "execution_count": 40,
          "metadata": {},
          "output_type": "execute_result"
        }
      ],
      "source": [
        "data1['kclus']  = pd.Series(res)\n",
        "data1.head()"
      ]
    },
    {
      "cell_type": "code",
      "execution_count": null,
      "id": "3062f124",
      "metadata": {
        "id": "3062f124",
        "outputId": "86c3b3a4-520c-4629-abdc-8289e45aed45"
      },
      "outputs": [
        {
          "data": {
            "text/plain": [
              "array([5, 2, 3, 7, 1, 6, 4, 0])"
            ]
          },
          "execution_count": 41,
          "metadata": {},
          "output_type": "execute_result"
        }
      ],
      "source": [
        "data1['kclus'].unique()"
      ]
    },
    {
      "cell_type": "code",
      "execution_count": null,
      "id": "e8c17948",
      "metadata": {
        "id": "e8c17948",
        "outputId": "3cc62750-8430-4e24-e917-793d23ae3018"
      },
      "outputs": [
        {
          "data": {
            "text/plain": [
              "3    39\n",
              "2    37\n",
              "7    26\n",
              "5    24\n",
              "6    22\n",
              "1    20\n",
              "4    18\n",
              "0    14\n",
              "Name: kclus, dtype: int64"
            ]
          },
          "execution_count": 42,
          "metadata": {},
          "output_type": "execute_result"
        }
      ],
      "source": [
        "data1['kclus'].value_counts()"
      ]
    },
    {
      "cell_type": "code",
      "execution_count": null,
      "id": "df779402",
      "metadata": {
        "id": "df779402",
        "outputId": "00ebc344-f599-420c-8594-6f4e32f7a131"
      },
      "outputs": [
        {
          "data": {
            "image/png": "[encoded data removed]",
            "text/plain": [
              "<Figure size 1080x576 with 1 Axes>"
            ]
          },
          "metadata": {
            "needs_background": "light"
          },
          "output_type": "display_data"
        }
      ],
      "source": [
        "import matplotlib.pyplot as plt\n",
        "\n",
        "fig,ax = plt.subplots(figsize=(15,8))\n",
        "sns.scatterplot(x=data1['Annual Income (k$)'],\n",
        "                y=data1['Spending Score (1-100)'],\n",
        "                hue=data1['kclus'],\n",
        "                palette='PuBuGn')\n",
        "plt.show()"
      ]
    },
    {
      "cell_type": "code",
      "execution_count": null,
      "id": "94f873ef",
      "metadata": {
        "id": "94f873ef",
        "outputId": "a35ced65-3145-439a-a562-dc95bed32e4b"
      },
      "outputs": [
        {
          "data": {
            "text/html": [
              "<div>\n",
              "<style scoped>\n",
              "    .dataframe tbody tr th:only-of-type {\n",
              "        vertical-align: middle;\n",
              "    }\n",
              "\n",
              "    .dataframe tbody tr th {\n",
              "        vertical-align: top;\n",
              "    }\n",
              "\n",
              "    .dataframe thead th {\n",
              "        text-align: right;\n",
              "    }\n",
              "</style>\n",
              "<table border=\"1\" class=\"dataframe\">\n",
              "  <thead>\n",
              "    <tr style=\"text-align: right;\">\n",
              "      <th></th>\n",
              "      <th>Genre</th>\n",
              "      <th>Age</th>\n",
              "      <th>Annual Income (k$)</th>\n",
              "      <th>Spending Score (1-100)</th>\n",
              "    </tr>\n",
              "  </thead>\n",
              "  <tbody>\n",
              "    <tr>\n",
              "      <th>0</th>\n",
              "      <td>1.0</td>\n",
              "      <td>0.019231</td>\n",
              "      <td>0.000000</td>\n",
              "      <td>0.387755</td>\n",
              "    </tr>\n",
              "    <tr>\n",
              "      <th>1</th>\n",
              "      <td>1.0</td>\n",
              "      <td>0.057692</td>\n",
              "      <td>0.000000</td>\n",
              "      <td>0.816327</td>\n",
              "    </tr>\n",
              "    <tr>\n",
              "      <th>2</th>\n",
              "      <td>0.0</td>\n",
              "      <td>0.038462</td>\n",
              "      <td>0.008493</td>\n",
              "      <td>0.051020</td>\n",
              "    </tr>\n",
              "    <tr>\n",
              "      <th>3</th>\n",
              "      <td>0.0</td>\n",
              "      <td>0.096154</td>\n",
              "      <td>0.008493</td>\n",
              "      <td>0.775510</td>\n",
              "    </tr>\n",
              "    <tr>\n",
              "      <th>4</th>\n",
              "      <td>0.0</td>\n",
              "      <td>0.250000</td>\n",
              "      <td>0.016985</td>\n",
              "      <td>0.397959</td>\n",
              "    </tr>\n",
              "  </tbody>\n",
              "</table>\n",
              "</div>"
            ],
            "text/plain": [
              "   Genre       Age  Annual Income (k$)  Spending Score (1-100)\n",
              "0    1.0  0.019231            0.000000                0.387755\n",
              "1    1.0  0.057692            0.000000                0.816327\n",
              "2    0.0  0.038462            0.008493                0.051020\n",
              "3    0.0  0.096154            0.008493                0.775510\n",
              "4    0.0  0.250000            0.016985                0.397959"
            ]
          },
          "execution_count": 44,
          "metadata": {},
          "output_type": "execute_result"
        }
      ],
      "source": [
        "ind = data1.iloc[:,0:4]\n",
        "ind.head()"
      ]
    },
    {
      "cell_type": "code",
      "execution_count": null,
      "id": "f329176f",
      "metadata": {
        "id": "f329176f",
        "outputId": "408a932a-1e66-4ae1-e0d1-8db67f2d1d36"
      },
      "outputs": [
        {
          "data": {
            "text/html": [
              "<div>\n",
              "<style scoped>\n",
              "    .dataframe tbody tr th:only-of-type {\n",
              "        vertical-align: middle;\n",
              "    }\n",
              "\n",
              "    .dataframe tbody tr th {\n",
              "        vertical-align: top;\n",
              "    }\n",
              "\n",
              "    .dataframe thead th {\n",
              "        text-align: right;\n",
              "    }\n",
              "</style>\n",
              "<table border=\"1\" class=\"dataframe\">\n",
              "  <thead>\n",
              "    <tr style=\"text-align: right;\">\n",
              "      <th></th>\n",
              "      <th>kclus</th>\n",
              "    </tr>\n",
              "  </thead>\n",
              "  <tbody>\n",
              "    <tr>\n",
              "      <th>0</th>\n",
              "      <td>5</td>\n",
              "    </tr>\n",
              "    <tr>\n",
              "      <th>1</th>\n",
              "      <td>5</td>\n",
              "    </tr>\n",
              "    <tr>\n",
              "      <th>2</th>\n",
              "      <td>2</td>\n",
              "    </tr>\n",
              "    <tr>\n",
              "      <th>3</th>\n",
              "      <td>2</td>\n",
              "    </tr>\n",
              "    <tr>\n",
              "      <th>4</th>\n",
              "      <td>2</td>\n",
              "    </tr>\n",
              "  </tbody>\n",
              "</table>\n",
              "</div>"
            ],
            "text/plain": [
              "   kclus\n",
              "0      5\n",
              "1      5\n",
              "2      2\n",
              "3      2\n",
              "4      2"
            ]
          },
          "execution_count": 45,
          "metadata": {},
          "output_type": "execute_result"
        }
      ],
      "source": [
        "dep = data1.iloc[:,4:]\n",
        "dep.head()"
      ]
    },
    {
      "cell_type": "markdown",
      "id": "bee124be",
      "metadata": {
        "id": "bee124be"
      },
      "source": [
        "## Splitting dataset into train and test data"
      ]
    },
    {
      "cell_type": "code",
      "execution_count": null,
      "id": "716cfa88",
      "metadata": {
        "id": "716cfa88",
        "outputId": "a6f52a2c-f78e-49eb-b3d8-57bac57ba2e5"
      },
      "outputs": [
        {
          "data": {
            "text/html": [
              "<div>\n",
              "<style scoped>\n",
              "    .dataframe tbody tr th:only-of-type {\n",
              "        vertical-align: middle;\n",
              "    }\n",
              "\n",
              "    .dataframe tbody tr th {\n",
              "        vertical-align: top;\n",
              "    }\n",
              "\n",
              "    .dataframe thead th {\n",
              "        text-align: right;\n",
              "    }\n",
              "</style>\n",
              "<table border=\"1\" class=\"dataframe\">\n",
              "  <thead>\n",
              "    <tr style=\"text-align: right;\">\n",
              "      <th></th>\n",
              "      <th>Genre</th>\n",
              "      <th>Age</th>\n",
              "      <th>Annual Income (k$)</th>\n",
              "      <th>Spending Score (1-100)</th>\n",
              "    </tr>\n",
              "  </thead>\n",
              "  <tbody>\n",
              "    <tr>\n",
              "      <th>116</th>\n",
              "      <td>0.0</td>\n",
              "      <td>0.865385</td>\n",
              "      <td>0.424628</td>\n",
              "      <td>0.428571</td>\n",
              "    </tr>\n",
              "    <tr>\n",
              "      <th>67</th>\n",
              "      <td>0.0</td>\n",
              "      <td>0.961538</td>\n",
              "      <td>0.280255</td>\n",
              "      <td>0.479592</td>\n",
              "    </tr>\n",
              "    <tr>\n",
              "      <th>78</th>\n",
              "      <td>0.0</td>\n",
              "      <td>0.096154</td>\n",
              "      <td>0.331210</td>\n",
              "      <td>0.520408</td>\n",
              "    </tr>\n",
              "    <tr>\n",
              "      <th>42</th>\n",
              "      <td>1.0</td>\n",
              "      <td>0.576923</td>\n",
              "      <td>0.203822</td>\n",
              "      <td>0.357143</td>\n",
              "    </tr>\n",
              "    <tr>\n",
              "      <th>17</th>\n",
              "      <td>1.0</td>\n",
              "      <td>0.038462</td>\n",
              "      <td>0.050955</td>\n",
              "      <td>0.663265</td>\n",
              "    </tr>\n",
              "  </tbody>\n",
              "</table>\n",
              "</div>"
            ],
            "text/plain": [
              "     Genre       Age  Annual Income (k$)  Spending Score (1-100)\n",
              "116    0.0  0.865385            0.424628                0.428571\n",
              "67     0.0  0.961538            0.280255                0.479592\n",
              "78     0.0  0.096154            0.331210                0.520408\n",
              "42     1.0  0.576923            0.203822                0.357143\n",
              "17     1.0  0.038462            0.050955                0.663265"
            ]
          },
          "execution_count": 46,
          "metadata": {},
          "output_type": "execute_result"
        }
      ],
      "source": [
        "from sklearn.model_selection import train_test_split\n",
        "x_train,x_test,y_train,y_test = train_test_split(ind,dep,test_size=0.3,random_state=1)\n",
        "x_train.head()"
      ]
    },
    {
      "cell_type": "code",
      "execution_count": null,
      "id": "661acd98",
      "metadata": {
        "id": "661acd98",
        "outputId": "3f68c2a7-3238-4ac5-86e3-33834b68e379"
      },
      "outputs": [
        {
          "data": {
            "text/html": [
              "<div>\n",
              "<style scoped>\n",
              "    .dataframe tbody tr th:only-of-type {\n",
              "        vertical-align: middle;\n",
              "    }\n",
              "\n",
              "    .dataframe tbody tr th {\n",
              "        vertical-align: top;\n",
              "    }\n",
              "\n",
              "    .dataframe thead th {\n",
              "        text-align: right;\n",
              "    }\n",
              "</style>\n",
              "<table border=\"1\" class=\"dataframe\">\n",
              "  <thead>\n",
              "    <tr style=\"text-align: right;\">\n",
              "      <th></th>\n",
              "      <th>Genre</th>\n",
              "      <th>Age</th>\n",
              "      <th>Annual Income (k$)</th>\n",
              "      <th>Spending Score (1-100)</th>\n",
              "    </tr>\n",
              "  </thead>\n",
              "  <tbody>\n",
              "    <tr>\n",
              "      <th>58</th>\n",
              "      <td>0.0</td>\n",
              "      <td>0.173077</td>\n",
              "      <td>0.263270</td>\n",
              "      <td>0.510204</td>\n",
              "    </tr>\n",
              "    <tr>\n",
              "      <th>40</th>\n",
              "      <td>0.0</td>\n",
              "      <td>0.903846</td>\n",
              "      <td>0.195329</td>\n",
              "      <td>0.346939</td>\n",
              "    </tr>\n",
              "    <tr>\n",
              "      <th>34</th>\n",
              "      <td>0.0</td>\n",
              "      <td>0.596154</td>\n",
              "      <td>0.152866</td>\n",
              "      <td>0.132653</td>\n",
              "    </tr>\n",
              "    <tr>\n",
              "      <th>102</th>\n",
              "      <td>1.0</td>\n",
              "      <td>0.942308</td>\n",
              "      <td>0.399151</td>\n",
              "      <td>0.591837</td>\n",
              "    </tr>\n",
              "    <tr>\n",
              "      <th>184</th>\n",
              "      <td>0.0</td>\n",
              "      <td>0.442308</td>\n",
              "      <td>0.713376</td>\n",
              "      <td>0.387755</td>\n",
              "    </tr>\n",
              "  </tbody>\n",
              "</table>\n",
              "</div>"
            ],
            "text/plain": [
              "     Genre       Age  Annual Income (k$)  Spending Score (1-100)\n",
              "58     0.0  0.173077            0.263270                0.510204\n",
              "40     0.0  0.903846            0.195329                0.346939\n",
              "34     0.0  0.596154            0.152866                0.132653\n",
              "102    1.0  0.942308            0.399151                0.591837\n",
              "184    0.0  0.442308            0.713376                0.387755"
            ]
          },
          "execution_count": 47,
          "metadata": {},
          "output_type": "execute_result"
        }
      ],
      "source": [
        "x_test.head()"
      ]
    },
    {
      "cell_type": "code",
      "execution_count": null,
      "id": "eea7a4a4",
      "metadata": {
        "id": "eea7a4a4",
        "outputId": "7bba37bc-f2fe-43bc-9b5d-1f7a7a233015"
      },
      "outputs": [
        {
          "data": {
            "text/html": [
              "<div>\n",
              "<style scoped>\n",
              "    .dataframe tbody tr th:only-of-type {\n",
              "        vertical-align: middle;\n",
              "    }\n",
              "\n",
              "    .dataframe tbody tr th {\n",
              "        vertical-align: top;\n",
              "    }\n",
              "\n",
              "    .dataframe thead th {\n",
              "        text-align: right;\n",
              "    }\n",
              "</style>\n",
              "<table border=\"1\" class=\"dataframe\">\n",
              "  <thead>\n",
              "    <tr style=\"text-align: right;\">\n",
              "      <th></th>\n",
              "      <th>kclus</th>\n",
              "    </tr>\n",
              "  </thead>\n",
              "  <tbody>\n",
              "    <tr>\n",
              "      <th>116</th>\n",
              "      <td>3</td>\n",
              "    </tr>\n",
              "    <tr>\n",
              "      <th>67</th>\n",
              "      <td>3</td>\n",
              "    </tr>\n",
              "    <tr>\n",
              "      <th>78</th>\n",
              "      <td>2</td>\n",
              "    </tr>\n",
              "    <tr>\n",
              "      <th>42</th>\n",
              "      <td>7</td>\n",
              "    </tr>\n",
              "    <tr>\n",
              "      <th>17</th>\n",
              "      <td>5</td>\n",
              "    </tr>\n",
              "  </tbody>\n",
              "</table>\n",
              "</div>"
            ],
            "text/plain": [
              "     kclus\n",
              "116      3\n",
              "67       3\n",
              "78       2\n",
              "42       7\n",
              "17       5"
            ]
          },
          "execution_count": 48,
          "metadata": {},
          "output_type": "execute_result"
        }
      ],
      "source": [
        "y_train.head()"
      ]
    },
    {
      "cell_type": "code",
      "execution_count": null,
      "id": "15b91f22",
      "metadata": {
        "id": "15b91f22",
        "outputId": "ab20e54f-6f25-42eb-e826-ea983f83ebe0"
      },
      "outputs": [
        {
          "data": {
            "text/html": [
              "<div>\n",
              "<style scoped>\n",
              "    .dataframe tbody tr th:only-of-type {\n",
              "        vertical-align: middle;\n",
              "    }\n",
              "\n",
              "    .dataframe tbody tr th {\n",
              "        vertical-align: top;\n",
              "    }\n",
              "\n",
              "    .dataframe thead th {\n",
              "        text-align: right;\n",
              "    }\n",
              "</style>\n",
              "<table border=\"1\" class=\"dataframe\">\n",
              "  <thead>\n",
              "    <tr style=\"text-align: right;\">\n",
              "      <th></th>\n",
              "      <th>kclus</th>\n",
              "    </tr>\n",
              "  </thead>\n",
              "  <tbody>\n",
              "    <tr>\n",
              "      <th>58</th>\n",
              "      <td>2</td>\n",
              "    </tr>\n",
              "    <tr>\n",
              "      <th>40</th>\n",
              "      <td>3</td>\n",
              "    </tr>\n",
              "    <tr>\n",
              "      <th>34</th>\n",
              "      <td>3</td>\n",
              "    </tr>\n",
              "    <tr>\n",
              "      <th>102</th>\n",
              "      <td>7</td>\n",
              "    </tr>\n",
              "    <tr>\n",
              "      <th>184</th>\n",
              "      <td>0</td>\n",
              "    </tr>\n",
              "  </tbody>\n",
              "</table>\n",
              "</div>"
            ],
            "text/plain": [
              "     kclus\n",
              "58       2\n",
              "40       3\n",
              "34       3\n",
              "102      7\n",
              "184      0"
            ]
          },
          "execution_count": 49,
          "metadata": {},
          "output_type": "execute_result"
        }
      ],
      "source": [
        "y_test.head()"
      ]
    },
    {
      "cell_type": "code",
      "execution_count": null,
      "id": "8bda1685",
      "metadata": {
        "id": "8bda1685",
        "outputId": "b4cbcc9c-7772-4322-aeef-0c7dfe8e1ed1"
      },
      "outputs": [
        {
          "data": {
            "text/plain": [
              "LinearRegression()"
            ]
          },
          "execution_count": 50,
          "metadata": {},
          "output_type": "execute_result"
        }
      ],
      "source": [
        "from sklearn.linear_model import LinearRegression\n",
        "lr = LinearRegression()\n",
        "lr.fit(x_train,y_train)"
      ]
    },
    {
      "cell_type": "code",
      "execution_count": null,
      "id": "2e7ce41c",
      "metadata": {
        "id": "2e7ce41c",
        "outputId": "8d4c678f-6990-4505-ba11-9f92ebd41e31"
      },
      "outputs": [
        {
          "data": {
            "text/plain": [
              "array([[2.69594466],\n",
              "       [3.98223809],\n",
              "       [2.32273189],\n",
              "       [6.32875229],\n",
              "       [1.90971453]])"
            ]
          },
          "execution_count": 51,
          "metadata": {},
          "output_type": "execute_result"
        }
      ],
      "source": [
        "pred_test = lr.predict(x_test)\n",
        "pred_test[0:5]"
      ]
    },
    {
      "cell_type": "markdown",
      "id": "2ed8e862",
      "metadata": {
        "id": "2ed8e862"
      },
      "source": [
        "## Measuring the performance using metrics"
      ]
    },
    {
      "cell_type": "code",
      "execution_count": null,
      "id": "114b595a",
      "metadata": {
        "id": "114b595a",
        "outputId": "20abb1a1-6b20-48ce-c2b6-3240f55bb01e"
      },
      "outputs": [
        {
          "name": "stdout",
          "output_type": "stream",
          "text": [
            "The Mean squared error is:  2.330532313143967\n",
            "The Root mean squared error is:  1.5266081072573823\n",
            "The Mean absolute error is:  1.2578961990089055\n",
            "The accuracy is:  0.48776382396249585\n"
          ]
        }
      ],
      "source": [
        "from sklearn.metrics import mean_squared_error,mean_absolute_error\n",
        "from sklearn.metrics import accuracy_score\n",
        "mse = mean_squared_error(pred_test,y_test)\n",
        "print(\"The Mean squared error is: \", mse)\n",
        "rmse = np.sqrt(mse)\n",
        "print(\"The Root mean squared error is: \", rmse)\n",
        "mae = mean_absolute_error(pred_test,y_test)\n",
        "print(\"The Mean absolute error is: \", mae)\n",
        "acc = lr.score(x_test,y_test)\n",
        "print(\"The accuracy is: \", acc)"
      ]
    }
  ],
  "metadata": {
    "colab": {
      "provenance": []
    },
    "kernelspec": {
      "display_name": "Python 3.8.8 ('base')",
      "language": "python",
      "name": "python3"
    },
    "language_info": {
      "codemirror_mode": {
        "name": "ipython",
        "version": 3
      },
      "file_extension": ".py",
      "mimetype": "text/x-python",
      "name": "python",
      "nbconvert_exporter": "python",
      "pygments_lexer": "ipython3",
      "version": "3.8.8"
    },
    "vscode": {
      "interpreter": {
        "hash": "835930cdab659cfe0998f909845533c8bce739076c1411aa039e952001a7acf8"
      }
    }
  },
  "nbformat": 4,
  "nbformat_minor": 5
}
